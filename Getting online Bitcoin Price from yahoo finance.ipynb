{
 "cells": [
  {
   "cell_type": "markdown",
   "metadata": {},
   "source": [
    "# Getting online Bitcoin Price from yahoo finance"
   ]
  },
  {
   "cell_type": "markdown",
   "metadata": {},
   "source": [
    "This code is constructed for getting instant price of bitcoin from yahoo finance web page and printting it.\n",
    "The libraries which are used for this purpose are Seleniuum and beautifulSoup.\n",
    "This code cane be used for getting any other crypto or stock from yahoo finance with changing the web addresses. \n",
    "\n",
    "Future Work :\n",
    "Predicting the candlestick Shape with the pattern of price in smaller data frame\n",
    "\n"
   ]
  },
  {
   "cell_type": "code",
   "execution_count": 3,
   "metadata": {},
   "outputs": [],
   "source": [
    "from selenium import webdriver\n",
    "from bs4 import BeautifulSoup"
   ]
  },
  {
   "cell_type": "code",
   "execution_count": null,
   "metadata": {},
   "outputs": [
    {
     "name": "stdout",
     "output_type": "stream",
     "text": [
      "BTUSD Price is:38,992.18\n",
      "BTUSD Price is:38,992.18\n"
     ]
    }
   ],
   "source": [
    "while True:\n",
    "    BTUSD = webdriver.Chrome()\n",
    "    BTUSD.get('https://finance.yahoo.com/quote/BTC-USD?p=BTC-USD')\n",
    "    page_source = BTUSD.page_source\n",
    "    soup = BeautifulSoup(page_source, 'html.parser')\n",
    "    price = soup.find('div', {'class': 'D(ib) Mend(20px)'}).find('span').text\n",
    "    \n",
    "    print('BTUSD Price is:' + price)\n",
    "    BTUSD.quit()"
   ]
  },
  {
   "cell_type": "code",
   "execution_count": null,
   "metadata": {},
   "outputs": [],
   "source": []
  }
 ],
 "metadata": {
  "kernelspec": {
   "display_name": "Python 3",
   "language": "python",
   "name": "python3"
  },
  "language_info": {
   "codemirror_mode": {
    "name": "ipython",
    "version": 3
   },
   "file_extension": ".py",
   "mimetype": "text/x-python",
   "name": "python",
   "nbconvert_exporter": "python",
   "pygments_lexer": "ipython3",
   "version": "3.8.5"
  }
 },
 "nbformat": 4,
 "nbformat_minor": 4
}
