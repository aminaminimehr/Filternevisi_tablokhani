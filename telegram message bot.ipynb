{
 "cells": [
  {
   "cell_type": "markdown",
   "metadata": {},
   "source": [
    "## telegram robot\n"
   ]
  },
  {
   "cell_type": "markdown",
   "metadata": {},
   "source": [
    "### create telegram robot and get token"
   ]
  },
  {
   "cell_type": "code",
   "execution_count": null,
   "metadata": {},
   "outputs": [],
   "source": [
    "'''We want to write a command that sends our output in Python to a specific location, such as a user or channel or group.\n",
    "To achieve this, we must have the robot token and the local ID where the robot is supposed to send the message.Then with this url we can send the message:\n",
    "'https://api.telegram.org/botBOTTOKEN/sendmessage?chat_id=YOURCHATID&text=YOURTEXT'\n",
    "\n",
    "So first we build a robot.Open a chat with @BotFather in Telegram and click the /start command.\n",
    "After you get a list of commands Select the command /newbot to get this Message:\n",
    "\n",
    "'Alright, a new bot. How are we going to call it? Please choose a name for your bot.'\n",
    "\n",
    "Enter a name for your bot, which can be anything , and send it. After that BotFather will ask for a username for your bot:\n",
    "\n",
    "'Good. Now let's choose a username for your bot. It must end in bot. Like this, for example: TetrisBot or tetris_bot.'\n",
    "\n",
    "That must end with “bot”. If your desired username is taken or not available, try again with another name.\n",
    "\n",
    "Finally your bot is created and the following message is shown. You must use the bot token to communicate with the Telegram, so make sure you write it down.\n",
    "\n",
    "\"Done! Congratulations on your new bot. You will find it at telegram.me/???bot. You can now add a description, about section and profile picture for your bot, see /help for a list of commands. By the way, when you've finished creating your cool bot, ping our Bot Support if you want a better username for it. Just make sure the bot is fully operational before you do this.\n",
    "\n",
    "Use this token to access the HTTP API: xxx:xxx\"\n",
    "\n",
    "now copy and save this token.\n",
    "\n",
    "'''"
   ]
  },
  {
   "cell_type": "markdown",
   "metadata": {},
   "source": [
    "### get ID"
   ]
  },
  {
   "cell_type": "code",
   "execution_count": null,
   "metadata": {},
   "outputs": [],
   "source": [
    "'''In order to get the group chat id, do as follows:\n",
    "\n",
    "Add the Telegram BOT to the group or channel.\n",
    "mention your tlegram bot.\n",
    "\n",
    "Get the list of updates for your BOT:\n",
    "\n",
    "https://api.telegram.org/bot<YourBOTToken>/getUpdates\n",
    "\n",
    "Replace your robot token with <YourBOTToken>\n",
    "\n",
    "Look for the \"id\" object like this:\n",
    "\n",
    "\"channel_post\":{\"message_id\":1586,\"sender_chat\":{\"id\":-1001406694611,\"title\":\"|boursescreener|\",\"type\":\"channel\"},\"chat\":\n",
    " \"id\":-1001406694611\n",
    " \n",
    " \n",
    " or \n",
    " \n",
    " \n",
    "much easier way .. forward a message from that channel to this @JsonDumpBot bot\n",
    "\n",
    "\n",
    "\n",
    "\n",
    "There are several ways to get a group chat ID ;)\n",
    "\n",
    "now we have Token and ID!\n",
    "\n",
    "'''"
   ]
  },
  {
   "cell_type": "markdown",
   "metadata": {},
   "source": [
    "## .::function ::."
   ]
  },
  {
   "cell_type": "code",
   "execution_count": null,
   "metadata": {},
   "outputs": [],
   "source": [
    "#First we import the library to access the relevant link\n",
    "import requests\n",
    "\n",
    "#We then define a function to receive the message as input.\n",
    "#This function sends the message to the location we already identified.\n",
    "\n",
    "def telegram_bot(message):\n",
    "  Token = \"TOKEN\"\n",
    "  ID = \"CHAT ID\"\n",
    "  url = 'https://api.telegram.org/bot' + Token + '/sendMessage?text=' + message + '&chat_id=' + ID\n",
    "  requests.get(url)"
   ]
  },
  {
   "cell_type": "markdown",
   "metadata": {},
   "source": [
    "### SAMPLE 1"
   ]
  },
  {
   "cell_type": "code",
   "execution_count": null,
   "metadata": {},
   "outputs": [],
   "source": [
    "msg= 'hello'\n",
    "telegram_bot(msg)"
   ]
  },
  {
   "cell_type": "markdown",
   "metadata": {},
   "source": [
    "### sample2"
   ]
  },
  {
   "cell_type": "code",
   "execution_count": null,
   "metadata": {},
   "outputs": [],
   "source": [
    "for i in range(0,50,2):\n",
    "    if i>25:\n",
    "        b=i\n",
    "        msg=\"🛎️  \" +\" i =  \" + str(b) + '   so' + \"i is bigger than 25\"\n",
    "        telegram_bot(msg)       "
   ]
  },
  {
   "cell_type": "markdown",
   "metadata": {},
   "source": [
    "### sample3"
   ]
  },
  {
   "cell_type": "code",
   "execution_count": null,
   "metadata": {},
   "outputs": [],
   "source": [
    "import pandas as pd\n",
    "import pytse_client as tse\n",
    "    "
   ]
  },
  {
   "cell_type": "code",
   "execution_count": null,
   "metadata": {},
   "outputs": [],
   "source": [
    "def ninedaycross(name):\n",
    "    #GET STOCK NAME AND MAKE A DATAFRAME OF STOCK HISTORY\n",
    "    \n",
    "    try:\n",
    "        \n",
    "        stock = tse.Ticker(name)\n",
    "        df=stock.history\n",
    "        df.index = df.index.strftime('%Y-%m-%d')\n",
    "    #NOW WE define MA and subtractions\n",
    "    \n",
    "        df['tafrigh']=df['adjClose'] - df['adjClose'].rolling(9).mean()\n",
    "        df['tafrigh-1']= df['adjClose'] - df['adjClose'].rolling(9).mean().shift(-1)\n",
    "        \n",
    "    #now we set the alarm system\n",
    "    \n",
    "        alarm=0\n",
    "        for i in range (len (df)):\n",
    "            if ((df['tafrigh'][i] >0)  & (df['tafrigh-1'][i]<0) ):\n",
    "                alarm+=1\n",
    "                time=df.index[i]\n",
    "                msg= \"🛎️  \"+ 'نماد  ' + str(name) + '  در تاریخ   '+ str(time) + ' کراس مووینگ 9 روزه با قیمت پایانی رخ داده است' + '\\n'\\\n",
    "                + ' تا کنون ' + str(alarm) + ' بار اتفاق افتاده است!    ' +'\\n'\\\n",
    "                + 'قیمت :  ' + str(df['adjClose'][i]) + '\\n'\\\n",
    "                + 'حجم روز :   ' + str(df['volume'][i]) + '\\n'\\\n",
    "                + \"💲\" + 'با ما تحرکات را در  ' + '@Yourchannel_id' + '  رصد کنید ! '+ \"💲\" \n",
    "                telegram_bot(msg)\n",
    "\n",
    "    except :\n",
    "         print('لطفا نام سهم را به فارسی بنویسید' + '\\n' + '|دوباره نام سهام را چک کنید و صحیح وارد کنید|')"
   ]
  },
  {
   "cell_type": "code",
   "execution_count": null,
   "metadata": {
    "scrolled": true
   },
   "outputs": [],
   "source": [
    "ninedaycross('وپست')"
   ]
  },
  {
   "cell_type": "code",
   "execution_count": null,
   "metadata": {},
   "outputs": [],
   "source": []
  }
 ],
 "metadata": {
  "kernelspec": {
   "display_name": "Python 3",
   "language": "python",
   "name": "python3"
  },
  "language_info": {
   "codemirror_mode": {
    "name": "ipython",
    "version": 3
   },
   "file_extension": ".py",
   "mimetype": "text/x-python",
   "name": "python",
   "nbconvert_exporter": "python",
   "pygments_lexer": "ipython3",
   "version": "3.8.5"
  }
 },
 "nbformat": 4,
 "nbformat_minor": 4
}
