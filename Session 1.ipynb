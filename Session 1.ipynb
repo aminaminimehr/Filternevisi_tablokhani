{
 "cells": [
  {
   "cell_type": "markdown",
   "id": "11dc3d51",
   "metadata": {},
   "source": [
    "# session 1"
   ]
  },
  {
   "cell_type": "markdown",
   "id": "a211f045",
   "metadata": {},
   "source": [
    "## Managing data with Pandas"
   ]
  },
  {
   "cell_type": "markdown",
   "id": "be354729",
   "metadata": {},
   "source": [
    "### Importing packages"
   ]
  },
  {
   "cell_type": "code",
   "execution_count": null,
   "id": "14d1e2d6",
   "metadata": {},
   "outputs": [],
   "source": [
    "from IPython import display\n",
    "import pandas as pd\n",
    "import numpy as np"
   ]
  },
  {
   "cell_type": "markdown",
   "id": "ac2a9dc4",
   "metadata": {},
   "source": [
    "### Reading an excel file"
   ]
  },
  {
   "cell_type": "code",
   "execution_count": null,
   "id": "2b1738a4",
   "metadata": {},
   "outputs": [],
   "source": [
    "df = pd.read_excel('Book1.xlsx')"
   ]
  },
  {
   "cell_type": "code",
   "execution_count": null,
   "id": "8ba2aef8",
   "metadata": {},
   "outputs": [],
   "source": [
    "df"
   ]
  },
  {
   "cell_type": "markdown",
   "id": "eb4225b5",
   "metadata": {},
   "source": [
    "### Creating Date type series"
   ]
  },
  {
   "cell_type": "code",
   "execution_count": null,
   "id": "5524244c",
   "metadata": {},
   "outputs": [],
   "source": [
    "df['Date'] = pd.to_datetime(df['Date'] , format='%Y%m%d')"
   ]
  },
  {
   "cell_type": "markdown",
   "id": "0126d971",
   "metadata": {},
   "source": [
    "### Replcaing the index"
   ]
  },
  {
   "cell_type": "code",
   "execution_count": null,
   "id": "987d6558",
   "metadata": {},
   "outputs": [],
   "source": [
    "df.set_index(['Date'] , inplace = True , drop = True)"
   ]
  },
  {
   "cell_type": "code",
   "execution_count": null,
   "id": "50edf37e",
   "metadata": {},
   "outputs": [],
   "source": [
    "df"
   ]
  },
  {
   "cell_type": "markdown",
   "id": "96bb31b2",
   "metadata": {},
   "source": [
    "### Getting the information of the dataframe"
   ]
  },
  {
   "cell_type": "code",
   "execution_count": null,
   "id": "65b7eb76",
   "metadata": {},
   "outputs": [],
   "source": [
    "df.info()"
   ]
  },
  {
   "cell_type": "code",
   "execution_count": null,
   "id": "0b7e380c",
   "metadata": {},
   "outputs": [],
   "source": [
    "df.describe()"
   ]
  },
  {
   "cell_type": "markdown",
   "id": "088806d7",
   "metadata": {},
   "source": [
    "## Pandas Slicing"
   ]
  },
  {
   "cell_type": "markdown",
   "id": "81ad0fb8",
   "metadata": {},
   "source": [
    "### Column slicing"
   ]
  },
  {
   "cell_type": "code",
   "execution_count": null,
   "id": "28e0519f",
   "metadata": {},
   "outputs": [],
   "source": [
    "display.Image(\"column slicing.png\" ,width = 600, height = 300)"
   ]
  },
  {
   "cell_type": "code",
   "execution_count": null,
   "id": "76e45112",
   "metadata": {},
   "outputs": [],
   "source": [
    "df['Close']"
   ]
  },
  {
   "cell_type": "markdown",
   "id": "4eafebf1",
   "metadata": {},
   "source": [
    "### Row slicing"
   ]
  },
  {
   "cell_type": "code",
   "execution_count": null,
   "id": "92a47ac1",
   "metadata": {},
   "outputs": [],
   "source": [
    "display.Image(\"row slicing.png\" ,width = 600, height = 300)"
   ]
  },
  {
   "cell_type": "code",
   "execution_count": null,
   "id": "878206ef",
   "metadata": {},
   "outputs": [],
   "source": [
    "df.loc['2008-12-08':'2009-01-01']"
   ]
  },
  {
   "cell_type": "code",
   "execution_count": null,
   "id": "dd66dcd7",
   "metadata": {},
   "outputs": [],
   "source": [
    "df.iloc[10:20]"
   ]
  },
  {
   "cell_type": "markdown",
   "id": "05e64c7f",
   "metadata": {},
   "source": [
    "### Double slicing"
   ]
  },
  {
   "cell_type": "code",
   "execution_count": null,
   "id": "ee5dad93",
   "metadata": {},
   "outputs": [],
   "source": [
    "display.Image(\"double slicing.png\" ,width = 600, height = 300)"
   ]
  },
  {
   "cell_type": "code",
   "execution_count": null,
   "id": "bccf6d4a",
   "metadata": {},
   "outputs": [],
   "source": [
    "df['Close'].iloc[10:20]"
   ]
  },
  {
   "cell_type": "markdown",
   "id": "2a4229d3",
   "metadata": {},
   "source": [
    "### Serial Slicing"
   ]
  },
  {
   "cell_type": "code",
   "execution_count": null,
   "id": "58963081",
   "metadata": {},
   "outputs": [],
   "source": [
    "df[4:10]"
   ]
  },
  {
   "cell_type": "code",
   "execution_count": null,
   "id": "60102b30",
   "metadata": {},
   "outputs": [],
   "source": [
    "df[-3:]"
   ]
  },
  {
   "cell_type": "markdown",
   "id": "7f97d6c8",
   "metadata": {},
   "source": [
    "## Missing values and How to deal with them"
   ]
  },
  {
   "cell_type": "code",
   "execution_count": null,
   "id": "098049b8",
   "metadata": {},
   "outputs": [],
   "source": [
    "df.isna().sum()"
   ]
  },
  {
   "cell_type": "markdown",
   "id": "bb40908e",
   "metadata": {},
   "source": [
    "### Drop"
   ]
  },
  {
   "cell_type": "code",
   "execution_count": null,
   "id": "cf7fc5d0",
   "metadata": {},
   "outputs": [],
   "source": [
    "df['Close'].loc['2008-11-28' : '2009-02-15'].plot()"
   ]
  },
  {
   "cell_type": "code",
   "execution_count": null,
   "id": "285e48ef",
   "metadata": {},
   "outputs": [],
   "source": [
    "df.dropna(axis = 0)"
   ]
  },
  {
   "cell_type": "code",
   "execution_count": null,
   "id": "97953633",
   "metadata": {},
   "outputs": [],
   "source": [
    "df"
   ]
  },
  {
   "cell_type": "markdown",
   "id": "e886c846",
   "metadata": {},
   "source": [
    "### Fill"
   ]
  },
  {
   "cell_type": "code",
   "execution_count": null,
   "id": "2927b778",
   "metadata": {},
   "outputs": [],
   "source": [
    "df[df['Close'].isna()]"
   ]
  },
  {
   "cell_type": "code",
   "execution_count": null,
   "id": "8c6f05d1",
   "metadata": {},
   "outputs": [],
   "source": [
    "# value = df['Close'].mean()\n",
    "\n",
    "df['Close'].fillna(method = 'bfill').loc['2008-12-28' : '2009-01-15'].plot()\n",
    "df['Close'].fillna(method = 'bfill').loc['2008-12-31' : '2009-01-11'].plot()"
   ]
  },
  {
   "cell_type": "markdown",
   "id": "b7815a5c",
   "metadata": {},
   "source": [
    "### Interpolate"
   ]
  },
  {
   "cell_type": "code",
   "execution_count": null,
   "id": "483a1bc9",
   "metadata": {},
   "outputs": [],
   "source": [
    "df['Close interpolated'] = df['Close'].interpolate('linear')"
   ]
  },
  {
   "cell_type": "code",
   "execution_count": null,
   "id": "369c2905",
   "metadata": {},
   "outputs": [],
   "source": [
    "df['Close interpolated'].loc['2008-12-28' : '2009-01-15'].plot()\n",
    "df['Close interpolated'].loc['2008-12-31' : '2009-01-11'].plot()"
   ]
  },
  {
   "cell_type": "markdown",
   "id": "3b250b70",
   "metadata": {},
   "source": [
    "## Adding new columns"
   ]
  },
  {
   "cell_type": "markdown",
   "id": "1f592bfd",
   "metadata": {},
   "source": [
    "### Calculating return"
   ]
  },
  {
   "cell_type": "code",
   "execution_count": null,
   "id": "20bf5617",
   "metadata": {},
   "outputs": [],
   "source": [
    "display.Image(\"pct_change 1 day.png\" ,width = 600, height = 300)"
   ]
  },
  {
   "cell_type": "code",
   "execution_count": null,
   "id": "0e4a3c74",
   "metadata": {},
   "outputs": [],
   "source": [
    "df['1 interval return'] = df['Close'].pct_change()"
   ]
  },
  {
   "cell_type": "code",
   "execution_count": null,
   "id": "327b0fa9",
   "metadata": {},
   "outputs": [],
   "source": [
    "display.Image(\"pct_change 2 day.png\" ,width = 600, height = 300)"
   ]
  },
  {
   "cell_type": "code",
   "execution_count": null,
   "id": "b7a31345",
   "metadata": {},
   "outputs": [],
   "source": [
    "df['2 interval return'] = df['Close'].pct_change(2)"
   ]
  },
  {
   "cell_type": "markdown",
   "id": "10eb550c",
   "metadata": {},
   "source": [
    "### Shifting rows"
   ]
  },
  {
   "cell_type": "code",
   "execution_count": null,
   "id": "8faf1031",
   "metadata": {},
   "outputs": [],
   "source": [
    "display.Image(\"shift +1.png\" ,width = 600, height = 300)"
   ]
  },
  {
   "cell_type": "code",
   "execution_count": null,
   "id": "56e47410",
   "metadata": {},
   "outputs": [],
   "source": [
    "df['Close'].shift(+1)"
   ]
  },
  {
   "cell_type": "code",
   "execution_count": null,
   "id": "6419ef17",
   "metadata": {},
   "outputs": [],
   "source": [
    "display.Image(\"shift -1.png\" ,width = 600, height = 300)"
   ]
  },
  {
   "cell_type": "code",
   "execution_count": null,
   "id": "f228242d",
   "metadata": {},
   "outputs": [],
   "source": [
    "df['Close'].shift(-1)"
   ]
  },
  {
   "cell_type": "markdown",
   "id": "f4de8445",
   "metadata": {},
   "source": [
    "## Rolling window (Sliding Window)\n"
   ]
  },
  {
   "cell_type": "markdown",
   "id": "5e423dd4",
   "metadata": {},
   "source": [
    "### Moving Average"
   ]
  },
  {
   "cell_type": "code",
   "execution_count": null,
   "id": "48251e29",
   "metadata": {},
   "outputs": [],
   "source": [
    "display.Image(\"rolling 3.png\" ,width = 600, height = 300)"
   ]
  },
  {
   "cell_type": "code",
   "execution_count": null,
   "id": "4d637b77",
   "metadata": {},
   "outputs": [],
   "source": [
    "df['Close'].rolling(3).mean()"
   ]
  },
  {
   "cell_type": "code",
   "execution_count": null,
   "id": "189d7b5d",
   "metadata": {},
   "outputs": [],
   "source": [
    "df['Close'].rolling(200).mean()"
   ]
  },
  {
   "cell_type": "code",
   "execution_count": null,
   "id": "c256717d",
   "metadata": {},
   "outputs": [],
   "source": [
    "df['Volume'].rolling(30).mean()"
   ]
  },
  {
   "cell_type": "code",
   "execution_count": null,
   "id": "95d1187e",
   "metadata": {},
   "outputs": [],
   "source": [
    "df['1 interval return'].rolling(10).var()"
   ]
  },
  {
   "cell_type": "markdown",
   "id": "89ac107e",
   "metadata": {},
   "source": [
    "## Condition filtering in Pandas***"
   ]
  },
  {
   "cell_type": "markdown",
   "id": "ff070ec0",
   "metadata": {},
   "source": [
    "### The Magic of Pandas !!!"
   ]
  },
  {
   "cell_type": "code",
   "execution_count": null,
   "id": "c4679906",
   "metadata": {},
   "outputs": [],
   "source": [
    "display.Image(\"filtering by condition.png\" ,width = 600, height = 300)"
   ]
  },
  {
   "cell_type": "markdown",
   "id": "59706c7d",
   "metadata": {},
   "source": [
    "###        CONDITION of specific columns to select rows"
   ]
  },
  {
   "cell_type": "code",
   "execution_count": null,
   "id": "ca68a781",
   "metadata": {},
   "outputs": [],
   "source": [
    "df['1 interval return'][-1] > df['1 interval return'][-2]"
   ]
  },
  {
   "cell_type": "code",
   "execution_count": null,
   "id": "c7cd5a7b",
   "metadata": {},
   "outputs": [],
   "source": [
    "df['1 interval return'][-1] < 0 and df['1 interval return'][-2] > 0"
   ]
  },
  {
   "cell_type": "code",
   "execution_count": null,
   "id": "c0d34a68",
   "metadata": {},
   "outputs": [],
   "source": [
    "df['Close'][-1] > df['Moving average 30'][-1]"
   ]
  },
  {
   "cell_type": "code",
   "execution_count": null,
   "id": "7a8ec9fc",
   "metadata": {},
   "outputs": [],
   "source": [
    "df['1 interval return'] > 0.01"
   ]
  },
  {
   "cell_type": "code",
   "execution_count": null,
   "id": "373ab2d3",
   "metadata": {},
   "outputs": [],
   "source": [
    "df['1 interval return'] < 0.00"
   ]
  },
  {
   "cell_type": "code",
   "execution_count": null,
   "id": "0c8912c2",
   "metadata": {},
   "outputs": [],
   "source": [
    "# Multiple conditions\n",
    "# | (or) or & (and)\n",
    "\n",
    "(df['1 interval return'] > 0.01) & (df['2 interval return'] > 0.02)"
   ]
  },
  {
   "cell_type": "markdown",
   "id": "809c8e3d",
   "metadata": {},
   "source": [
    "### Calling respective indice of conditions "
   ]
  },
  {
   "cell_type": "code",
   "execution_count": null,
   "id": "15904697",
   "metadata": {},
   "outputs": [],
   "source": [
    "df[df['1 interval return'] > 0.01]"
   ]
  },
  {
   "cell_type": "code",
   "execution_count": null,
   "id": "a77163c6",
   "metadata": {},
   "outputs": [],
   "source": [
    "df[df['1 interval return'] < 0.00]"
   ]
  },
  {
   "cell_type": "code",
   "execution_count": null,
   "id": "25290db5",
   "metadata": {},
   "outputs": [],
   "source": [
    "df[(df['1 interval return'] > 0.01) & (df['2 interval return'] > 0.02)]"
   ]
  },
  {
   "cell_type": "markdown",
   "id": "5839f45e",
   "metadata": {},
   "source": [
    "## Plotting in Pandas"
   ]
  },
  {
   "cell_type": "code",
   "execution_count": null,
   "id": "e5893c88",
   "metadata": {},
   "outputs": [],
   "source": [
    "df['Close'][-100:].plot(figsize = [14,8] , legend = True)\n",
    "df['Moving Average 3'][-100:].plot(figsize = [14,8] , legend = True)"
   ]
  },
  {
   "cell_type": "code",
   "execution_count": null,
   "id": "3292d893",
   "metadata": {},
   "outputs": [],
   "source": [
    "df['Close'][:].plot(figsize = [14,8] , legend = True)\n",
    "df['Moving Average 200'][:].plot(figsize = [14,8] , legend = True)"
   ]
  },
  {
   "cell_type": "markdown",
   "id": "9ef63535",
   "metadata": {},
   "source": [
    "## Saving DataFrames to CSV or Excel"
   ]
  },
  {
   "cell_type": "code",
   "execution_count": null,
   "id": "a24209c4",
   "metadata": {},
   "outputs": [],
   "source": [
    "df.to_csv('')"
   ]
  }
 ],
 "metadata": {
  "kernelspec": {
   "display_name": "Python 3",
   "language": "python",
   "name": "python3"
  },
  "language_info": {
   "codemirror_mode": {
    "name": "ipython",
    "version": 3
   },
   "file_extension": ".py",
   "mimetype": "text/x-python",
   "name": "python",
   "nbconvert_exporter": "python",
   "pygments_lexer": "ipython3",
   "version": "3.8.8"
  }
 },
 "nbformat": 4,
 "nbformat_minor": 5
}
