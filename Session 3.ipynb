{
 "cells": [
  {
   "cell_type": "markdown",
   "id": "6cbcfdb1",
   "metadata": {},
   "source": [
    "# Different methods for market data collection mainly in Iran"
   ]
  },
  {
   "cell_type": "markdown",
   "id": "318ed95a",
   "metadata": {},
   "source": [
    "## Pytse-client"
   ]
  },
  {
   "cell_type": "code",
   "execution_count": null,
   "id": "3513cb9d",
   "metadata": {},
   "outputs": [],
   "source": [
    "import pytse_client as tse"
   ]
  },
  {
   "cell_type": "code",
   "execution_count": null,
   "id": "bb6725c9",
   "metadata": {},
   "outputs": [],
   "source": [
    "Vabemelat = tse.Ticker(\"وبملت\")"
   ]
  },
  {
   "cell_type": "markdown",
   "id": "f1c23912",
   "metadata": {},
   "source": [
    "### Historical data"
   ]
  },
  {
   "cell_type": "code",
   "execution_count": null,
   "id": "d02aa9e9",
   "metadata": {},
   "outputs": [],
   "source": [
    "Vabemelat.history"
   ]
  },
  {
   "cell_type": "markdown",
   "id": "0efddabe",
   "metadata": {},
   "source": [
    "### Discrimination of Individuals and Firms "
   ]
  },
  {
   "cell_type": "code",
   "execution_count": null,
   "id": "b535714d",
   "metadata": {},
   "outputs": [],
   "source": [
    "Vabemelat.client_types"
   ]
  },
  {
   "cell_type": "code",
   "execution_count": null,
   "id": "22accae2",
   "metadata": {},
   "outputs": [],
   "source": [
    "Vabemelat.url"
   ]
  },
  {
   "cell_type": "markdown",
   "id": "49d97486",
   "metadata": {},
   "source": [
    "### EPS"
   ]
  },
  {
   "cell_type": "code",
   "execution_count": null,
   "id": "e0d8d511",
   "metadata": {},
   "outputs": [],
   "source": [
    "Vabemelat.eps"
   ]
  },
  {
   "cell_type": "markdown",
   "id": "fd880f29",
   "metadata": {},
   "source": [
    "### P/E"
   ]
  },
  {
   "cell_type": "code",
   "execution_count": null,
   "id": "cc642ea6",
   "metadata": {},
   "outputs": [],
   "source": [
    "Vabemelat.p_e_ratio"
   ]
  },
  {
   "cell_type": "markdown",
   "id": "16069906",
   "metadata": {},
   "source": [
    "### Group P/E"
   ]
  },
  {
   "cell_type": "code",
   "execution_count": null,
   "id": "7c98897b",
   "metadata": {},
   "outputs": [],
   "source": [
    "Vabemelat.group_p_e_ratio"
   ]
  },
  {
   "cell_type": "markdown",
   "id": "88abe723",
   "metadata": {},
   "source": [
    "### حجم مبنا"
   ]
  },
  {
   "cell_type": "code",
   "execution_count": null,
   "id": "a79df91c",
   "metadata": {},
   "outputs": [],
   "source": [
    "Vabemelat.base_volume  "
   ]
  },
  {
   "cell_type": "markdown",
   "id": "785bf343",
   "metadata": {},
   "source": [
    "### Share holders"
   ]
  },
  {
   "cell_type": "code",
   "execution_count": null,
   "id": "208ae224",
   "metadata": {},
   "outputs": [],
   "source": [
    "Vabemelat.shareholders"
   ]
  },
  {
   "cell_type": "markdown",
   "id": "f0e902d8",
   "metadata": {},
   "source": [
    "### Full Title of the Stock"
   ]
  },
  {
   "cell_type": "code",
   "execution_count": null,
   "id": "7807da0a",
   "metadata": {},
   "outputs": [],
   "source": [
    "Vabemelat.title"
   ]
  },
  {
   "cell_type": "markdown",
   "id": "506fbec4",
   "metadata": {},
   "source": [
    "### Stock Group"
   ]
  },
  {
   "cell_type": "code",
   "execution_count": null,
   "id": "e628c5ab",
   "metadata": {},
   "outputs": [],
   "source": [
    "Vabemelat.group_name"
   ]
  },
  {
   "cell_type": "markdown",
   "id": "d120e667",
   "metadata": {},
   "source": [
    "### All Tickers"
   ]
  },
  {
   "cell_type": "code",
   "execution_count": null,
   "id": "0882dee1",
   "metadata": {},
   "outputs": [],
   "source": [
    "all_symbols = tse.all_symbols()\n",
    "all_symbols = list(all_symbols)"
   ]
  },
  {
   "cell_type": "markdown",
   "id": "4fae1e7d",
   "metadata": {},
   "source": [
    "### A sample of filtering on all stocks"
   ]
  },
  {
   "cell_type": "code",
   "execution_count": null,
   "id": "a6caed0b",
   "metadata": {},
   "outputs": [],
   "source": [
    "j = 0\n",
    "for i in  all_symbols:\n",
    "    try:\n",
    "        historical_data = tse.Ticker(i).history[-250:]\n",
    "        historical_data['return'] = historical_data['close'].pct_change()\n",
    "        historical_data['MA 7'] = historical_data['close'].rolling(7).mean()\n",
    "        if historical_data['close'].iloc[-1] < historical_data['MA 7'].iloc[-1]:\n",
    "            pass\n",
    "            #print(i , ' price is under 7 days moving average')\n",
    "        if historical_data['close'].iloc[-1] > historical_data['MA 7'].iloc[-1]:\n",
    "            pass\n",
    "            #print(i , ' price is above 7 days moving average')\n",
    "        if historical_data['return'].iloc[-1] > 0.04:\n",
    "            pass\n",
    "            #print(i , 'has gained more than 4 percent in the most recent day' )\n",
    "        if historical_data['close'].iloc[-2] < historical_data['MA 7'].iloc[-2] and historical_data['close'].iloc[-1] > historical_data['MA 7'].iloc[-1]:\n",
    "            print(i , ' has crossed the 7 days moving average recently')\n",
    "    except:\n",
    "        print(' data for ' , i , 'is not available')"
   ]
  },
  {
   "cell_type": "markdown",
   "id": "be4bbfce",
   "metadata": {},
   "source": [
    "## Steps towards tsetmc scrapping"
   ]
  },
  {
   "cell_type": "code",
   "execution_count": null,
   "id": "b6e9e38c",
   "metadata": {},
   "outputs": [],
   "source": [
    "import time\n",
    "import datetime\n",
    "import requests as re\n"
   ]
  },
  {
   "cell_type": "markdown",
   "id": "2364e52b",
   "metadata": {},
   "source": [
    "### Pre-requirements"
   ]
  },
  {
   "cell_type": "code",
   "execution_count": null,
   "id": "da1ad57a",
   "metadata": {},
   "outputs": [],
   "source": [
    "#date time\n",
    "datetime.datetime.now()"
   ]
  },
  {
   "cell_type": "code",
   "execution_count": null,
   "id": "476e183e",
   "metadata": {},
   "outputs": [],
   "source": [
    "#time\n",
    "time.time()"
   ]
  },
  {
   "cell_type": "code",
   "execution_count": null,
   "id": "a2b0e106",
   "metadata": {},
   "outputs": [],
   "source": [
    "#split function of the string class\n",
    "\n",
    "'amin is a bad boy'.split()"
   ]
  },
  {
   "cell_type": "code",
   "execution_count": null,
   "id": "30af6e91",
   "metadata": {},
   "outputs": [],
   "source": [
    "'amin is a bad boy'.split('i')"
   ]
  },
  {
   "cell_type": "markdown",
   "id": "da664ed9",
   "metadata": {},
   "source": [
    "### Sending requests to the target link (main page)"
   ]
  },
  {
   "cell_type": "code",
   "execution_count": null,
   "id": "628f5e01",
   "metadata": {},
   "outputs": [],
   "source": [
    "\n",
    "tablo_asli = re.get('http://tsetmc.com/Loader.aspx?ParTree=15')\n"
   ]
  },
  {
   "cell_type": "code",
   "execution_count": null,
   "id": "847a0912",
   "metadata": {},
   "outputs": [],
   "source": [
    "\n",
    "tablo_asli.text.split('\\r\\n').index(\n",
    " '                                    <td>1,750,636.15</td>')\n"
   ]
  },
  {
   "cell_type": "code",
   "execution_count": null,
   "id": "d3d28e91",
   "metadata": {},
   "outputs": [],
   "source": [
    "\n",
    "tablo_asli = re.get('http://tsetmc.com/Loader.aspx?ParTree=15')\n",
    "\n",
    "print(\n",
    "tablo_asli.text.split('\\r\\n')[262].strip()[4:-5],'\\n',\n",
    "tablo_asli.text.split('\\r\\n')[272].strip()[4:-5],'\\n',\n",
    "tablo_asli.text.split('\\r\\n')[282].strip()[4:-5],'\\n',\n",
    "tablo_asli.text.split('\\r\\n')[292].strip()[4:-5],'\\n',\n",
    "tablo_asli.text.split('\\r\\n')[302].strip()[4:-5],'\\n',\n",
    "tablo_asli.text.split('\\r\\n')[312].strip()[4:-5],'\\n',\n",
    "tablo_asli.text.split('\\r\\n')[322].strip()[4:-5])\n"
   ]
  },
  {
   "cell_type": "code",
   "execution_count": null,
   "id": "436802d1",
   "metadata": {},
   "outputs": [],
   "source": [
    "\n",
    "time_list = []\n",
    "list_shakhes_kol = []\n",
    "list_shakhes_gheymat_vazni_arzeshi = []\n",
    "list_shakhes_kol_hamvazn = []\n",
    "list_shakhes_gheymat_hamvazn = []\n",
    "list_shakhes_azad_shenavar = []\n",
    "list_shakhes_bazar_aval = []\n",
    "list_shakhes_bazar_dovom = []\n",
    "\n",
    "for i in range(0,20):\n",
    "    \n",
    "    tablo_asli = re.get('http://tsetmc.com/Loader.aspx?ParTree=15')\n",
    "    \n",
    "    print(i)\n",
    "    \n",
    "    time.sleep(5)\n",
    "    \n",
    "    timee = datetime.datetime.now()\n",
    "    \n",
    "    shakhes_kol = tablo_asli.text.split('\\r\\n')[262].strip()[4:-5]\n",
    "    shakhes_gheymat_vazni_arzeshi = tablo_asli.text.split('\\r\\n')[272].strip()[4:-5]\n",
    "    shakhes_kol_hamvazn = tablo_asli.text.split('\\r\\n')[282].strip()[4:-5]\n",
    "    shakhes_gheymat_hamvazn = tablo_asli.text.split('\\r\\n')[292].strip()[4:-5]\n",
    "    shakhes_azad_shenavar = tablo_asli.text.split('\\r\\n')[302].strip()[4:-5]\n",
    "    shakhes_bazar_aval = tablo_asli.text.split('\\r\\n')[312].strip()[4:-5]\n",
    "    shakhes_bazar_dovom = tablo_asli.text.split('\\r\\n')[322].strip()[4:-5]\n",
    "    \n",
    "    list_shakhes_kol.append(shakhes_kol)\n",
    "    list_shakhes_gheymat_vazni_arzeshi.append(shakhes_gheymat_vazni_arzeshi)\n",
    "    list_shakhes_kol_hamvazn.append(shakhes_kol_hamvazn)\n",
    "    list_shakhes_gheymat_hamvazn.append(shakhes_gheymat_hamvazn)\n",
    "    list_shakhes_azad_shenavar.append(shakhes_azad_shenavar)\n",
    "    list_shakhes_bazar_aval.append(shakhes_bazar_aval)\n",
    "    list_shakhes_bazar_dovom.append(shakhes_bazar_dovom)\n",
    "    \n",
    "    time_list.append(timee)\n",
    "    "
   ]
  },
  {
   "cell_type": "code",
   "execution_count": null,
   "id": "972b4fc5",
   "metadata": {},
   "outputs": [],
   "source": [
    "\n",
    "pd.DataFrame({'Shakhes kol': list_shakhes_kol , 'Shakhes kol gheymat VA': list_shakhes_gheymat_vazni_arzeshi , \n",
    "              'Shakhes kol HV': list_shakhes_kol_hamvazn , 'sakhes gheymat HV':list_shakhes_gheymat_hamvazn , \n",
    "              'Shakhes azad shenavar': list_shakhes_azad_shenavar , 'shakhes bazar aval' : list_shakhes_bazar_aval , \n",
    "               'shakhes bazar dovom' : list_shakhes_bazar_dovom\n",
    "             } , index = time_list)\n"
   ]
  },
  {
   "cell_type": "code",
   "execution_count": null,
   "id": "e66268e8",
   "metadata": {},
   "outputs": [],
   "source": [
    "\n",
    "while datetime.datetime.now().hour < 12:\n",
    "    try:\n",
    "        tablo_asli = re.get('http://tsetmc.com/Loader.aspx?ParTree=15')\n",
    "        timee = datetime.datetime.now()\n",
    "        print(timee)\n",
    "        print(tablo_asli.text.split('\\r\\n')[262].strip()[4:-5])\n",
    "        print('\\n')\n",
    "        time.sleep(300)\n",
    "    except:\n",
    "        print('data daryaft nashod')\n",
    "        \n",
    "while datetime.datetime.now().hour > 12:\n",
    "    while datetime.datetime.now().minute < 30:\n",
    "        try:\n",
    "            tablo_asli = re.get('http://tsetmc.com/Loader.aspx?ParTree=15')\n",
    "            timee = datetime.datetime.now()\n",
    "            print(timee)\n",
    "            print(tablo_asli.text.split('\\r\\n')[262].strip()[4:-5])\n",
    "            print('\\n')\n",
    "            time.sleep(300)\n",
    "        except:\n",
    "            print('data daryaft nashod')"
   ]
  },
  {
   "cell_type": "markdown",
   "id": "40b6d8ca",
   "metadata": {},
   "source": [
    "## Tablo Sahm (Beautifull Soup and Selenium) ====> price data"
   ]
  },
  {
   "cell_type": "code",
   "execution_count": null,
   "id": "0ae541f9",
   "metadata": {},
   "outputs": [],
   "source": [
    "import time\n",
    "from selenium import webdriver\n",
    "from bs4 import BeautifulSoup"
   ]
  },
  {
   "cell_type": "code",
   "execution_count": null,
   "id": "64adae37",
   "metadata": {},
   "outputs": [],
   "source": [
    "tablo_sahm = webdriver.Chrome()\n",
    "\n",
    "tablo_sahm.get('http://tsetmc.com/Loader.aspx?ParTree=151311&i=2400322364771558')\n",
    "time.sleep(10) # delay 5 sec\n",
    "page_source = tablo_sahm.page_source\n",
    "\n",
    "soup = BeautifulSoup(page_source,'html.parser')\n",
    "# print(soup.prettify())\n",
    "prices = soup.find('div', {'class': 'box6 h80'}).find('table')\n",
    "\n",
    "for td in prices.find_all('tr')[1]:\n",
    "    print(td.getText()) # all td text garbed.\n",
    "\n",
    "tablo_sahm.quit()"
   ]
  },
  {
   "cell_type": "markdown",
   "id": "b6bff326",
   "metadata": {},
   "source": [
    "## Tablo Sahm (Selenium by ID) ====> specific for Individuals and Firms"
   ]
  },
  {
   "cell_type": "code",
   "execution_count": null,
   "id": "3fc54af1",
   "metadata": {},
   "outputs": [],
   "source": [
    "from selenium import webdriver\n",
    "tablo_sahm = webdriver.Chrome()\n",
    "tablo_sahm.get('http://tsetmc.com/Loader.aspx?ParTree=151311&i=2400322364771558')\n",
    "time.sleep(10) # delay 10 sec\n",
    "p_element = tablo_sahm.find_element_by_id(id_='e3')\n",
    "print(p_element.text)\n",
    "# result:\n",
    "'End'"
   ]
  },
  {
   "cell_type": "markdown",
   "id": "19ebd614",
   "metadata": {},
   "source": [
    "# Best scrapping feature of TSETMC !!!!!!!!"
   ]
  },
  {
   "cell_type": "markdown",
   "id": "43b3fb8b",
   "metadata": {},
   "source": [
    "## Introducing data link"
   ]
  },
  {
   "cell_type": "code",
   "execution_count": null,
   "id": "7d29e7ec",
   "metadata": {},
   "outputs": [],
   "source": [
    "http://www.tsetmc.com/tsev2/data/instinfodata.aspx"
   ]
  },
  {
   "cell_type": "raw",
   "id": "f25cd4ca",
   "metadata": {},
   "source": [
    "=http://www.tsetmc.com/tsev2/data/instinfodata.aspx?i=778253364357513&c=57 وبملت\n",
    "http://www.tsetmc.com/tsev2/data/instinfodata.aspx?i=2400322364771558&c=39 شستا"
   ]
  },
  {
   "cell_type": "code",
   "execution_count": null,
   "id": "54b0cf2a",
   "metadata": {},
   "outputs": [],
   "source": [
    "re.get('http://www.tsetmc.com/tsev2/data/instinfodata.aspx?i=2400322364771558&c=39').text.split(',')"
   ]
  },
  {
   "cell_type": "code",
   "execution_count": null,
   "id": "97d6b193",
   "metadata": {},
   "outputs": [],
   "source": []
  }
 ],
 "metadata": {
  "kernelspec": {
   "display_name": "Python 3",
   "language": "python",
   "name": "python3"
  },
  "language_info": {
   "codemirror_mode": {
    "name": "ipython",
    "version": 3
   },
   "file_extension": ".py",
   "mimetype": "text/x-python",
   "name": "python",
   "nbconvert_exporter": "python",
   "pygments_lexer": "ipython3",
   "version": "3.8.8"
  }
 },
 "nbformat": 4,
 "nbformat_minor": 5
}
